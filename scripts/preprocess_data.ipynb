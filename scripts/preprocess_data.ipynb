{
 "cells": [
  {
   "cell_type": "code",
   "execution_count": null,
   "metadata": {},
   "outputs": [],
   "source": [
    "import pandas as pd"
   ]
  },
  {
   "cell_type": "code",
   "execution_count": null,
   "metadata": {},
   "outputs": [],
   "source": [
    "data = pd.read_csv(\n",
    "    \"../data/lyrics_original/kpop_lyrics_crawling_step2.csv\", index_col=False\n",
    ")\n",
    "data.sort_values(by=[\"year\"])\n",
    "data = data.fillna(\"\")\n"
   ]
  },
  {
   "cell_type": "markdown",
   "metadata": {},
   "source": [
    "### 1. 가사 누락 데이터 삭제"
   ]
  },
  {
   "cell_type": "code",
   "execution_count": null,
   "metadata": {},
   "outputs": [],
   "source": [
    "data = data.loc[data[\"lyric\"] != \"\"]\n",
    "data\n"
   ]
  },
  {
   "cell_type": "markdown",
   "metadata": {},
   "source": [
    "### 2. 차트에 중복기재된 노래 제거"
   ]
  },
  {
   "cell_type": "code",
   "execution_count": null,
   "metadata": {},
   "outputs": [],
   "source": [
    "data = data.drop_duplicates(subset=[\"song_id\"], keep=\"first\")\n",
    "data.to_csv(\"../data/lyrics_original/lyric_preprocessed_unique.csv\")\n",
    "data\n"
   ]
  },
  {
   "cell_type": "markdown",
   "metadata": {},
   "source": [
    "### 3. 복수 장르 분리"
   ]
  },
  {
   "cell_type": "code",
   "execution_count": null,
   "metadata": {},
   "outputs": [],
   "source": [
    "genres = data[\"genre\"].drop_duplicates(keep='first')\n",
    "genre_dict = {}\n",
    "for item in genres.iteritems():\n",
    "    items = item[1].split(', ')\n",
    "    for genre in items:\n",
    "        genre_dict[genre] = 1\n",
    "\n",
    "available_genres =list(genre_dict.keys())\n",
    "available_genres"
   ]
  },
  {
   "cell_type": "code",
   "execution_count": null,
   "metadata": {},
   "outputs": [],
   "source": [
    "for i, each in data.iterrows():\n",
    "\tdata.at[i, \"genre\"] = each[\"genre\"].split(\", \")\n",
    "data = data.explode([\"genre\"])\n",
    "data\n"
   ]
  },
  {
   "cell_type": "code",
   "execution_count": null,
   "metadata": {},
   "outputs": [],
   "source": [
    "data.to_csv(\"../data/lyrics_original/lyric_preprocessed_genre_separate.csv\")\n"
   ]
  }
 ],
 "metadata": {
  "interpreter": {
   "hash": "83bdb255df4d3ce5009f9a02a0a05d762d4c747b38043952779e137e44564c28"
  },
  "kernelspec": {
   "display_name": "Python 3.10.0 64-bit ('notebook': pyenv)",
   "language": "python",
   "name": "python3"
  },
  "language_info": {
   "codemirror_mode": {
    "name": "ipython",
    "version": 3
   },
   "file_extension": ".py",
   "mimetype": "text/x-python",
   "name": "python",
   "nbconvert_exporter": "python",
   "pygments_lexer": "ipython3",
   "version": "3.10.0"
  },
  "orig_nbformat": 4
 },
 "nbformat": 4,
 "nbformat_minor": 2
}
