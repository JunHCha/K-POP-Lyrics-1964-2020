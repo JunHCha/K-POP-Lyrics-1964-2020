{
  "cells": [
    {
      "cell_type": "code",
      "execution_count": null,
      "metadata": {
        "id": "ojlNKstWwL4Y"
      },
      "outputs": [],
      "source": [
        "import pandas as pd\n",
        "from khaiii import KhaiiiApi\n",
        "import re\n",
        "\n",
        "url = \"https://raw.githubusercontent.com/JunHCha/K-POP-Lyrics-1964-2020/main/data/lyrics_original/lyric_preprocessed_unique.csv\"\n",
        "lyrics = pd.read_csv(url, encoding=\"utf-8\")\n"
      ]
    },
    {
      "cell_type": "code",
      "execution_count": null,
      "metadata": {
        "colab": {
          "base_uri": "https://localhost:8080/"
        },
        "id": "dwY95IYcAgN_",
        "outputId": "b2a0cbf9-a08c-497d-c38d-8c08c7c016d8"
      },
      "outputs": [],
      "source": [
        "api = KhaiiiApi()\n",
        "\n",
        "word_df = pd.DataFrame(\n",
        "    columns=[\"genre\", \"year\", \"song_id\", \"title\", \"line\", \"word\", \"class\", \"tag_orig\"]\n",
        ")\n",
        "\n",
        "for i, each in lyrics.iterrows():\n",
        "    genre = each[\"genre\"]\n",
        "    year = each[\"year\"]\n",
        "    song_id = each[\"song_id\"]\n",
        "    title = each[\"title\"]\n",
        "    print(year, title, sep=\" \")\n",
        "\n",
        "    # 개행문자 단위로 가사를 문장으로 분리\n",
        "    lines = re.split(\"\\n\", each[\"lyric\"])\n",
        "\n",
        "    # 두 번 개행한 경우 제거\n",
        "    lines = list(filter(lambda x: x != \"\", lines))\n",
        "\n",
        "    # 한 문장마다 Khaiii 형태소 분석\n",
        "    for i, line in enumerate(lines):\n",
        "        try:\n",
        "            analyzed = api.analyze(line)\n",
        "        except :\n",
        "            continue\n",
        "\n",
        "        for word in analyzed:\n",
        "            for morph in word.morphs:\n",
        "                if morph.tag == \"NNG\" or morph.tag == \"NNP\":\n",
        "                    word_class = \"Noun\"\n",
        "                elif morph.tag == \"VA\":\n",
        "                    word_class = \"Adjective\"\n",
        "                else:\n",
        "                    continue\n",
        "\n",
        "                line_word = pd.DataFrame(\n",
        "                    {\n",
        "                        \"genre\": [genre],\n",
        "                        \"year\": [year],\n",
        "                        \"song_id\": [song_id],\n",
        "                        \"title\": [title],\n",
        "                        \"line\": [i],\n",
        "                        \"word\": [morph.lex],\n",
        "                        \"class\": [word_class],\n",
        "                        \"tag_orig\": [morph.tag]\n",
        "                    }\n",
        "                )\n",
        "                word_df = pd.concat([word_df, line_word])\n",
        "word_df"
      ]
    },
    {
      "cell_type": "code",
      "execution_count": null,
      "metadata": {},
      "outputs": [],
      "source": [
        "word_df.to_csv(\"../data/lyrics_original/lyric_word_parsed_by_line.csv\")"
      ]
    }
  ],
  "metadata": {
    "colab": {
      "collapsed_sections": [],
      "name": "lyrics_word_counter",
      "provenance": []
    },
    "kernelspec": {
      "display_name": "Python 3",
      "name": "python3"
    },
    "language_info": {
      "codemirror_mode": {
        "name": "ipython",
        "version": 3
      },
      "file_extension": ".py",
      "mimetype": "text/x-python",
      "name": "python",
      "nbconvert_exporter": "python",
      "pygments_lexer": "ipython3",
      "version": "3.10.0"
    }
  },
  "nbformat": 4,
  "nbformat_minor": 0
}
