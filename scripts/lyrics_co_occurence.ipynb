{
  "nbformat": 4,
  "nbformat_minor": 0,
  "metadata": {
    "colab": {
      "name": "lyrics_co_occurence.ipynb",
      "provenance": [],
      "collapsed_sections": []
    },
    "kernelspec": {
      "name": "python3",
      "display_name": "Python 3"
    },
    "language_info": {
      "name": "python"
    }
  },
  "cells": [
    {
      "cell_type": "code",
      "metadata": {
        "colab": {
          "base_uri": "https://localhost:8080/"
        },
        "id": "pI7PoRte4sIB",
        "outputId": "869e9ba6-b168-4667-ffda-f5540750ea78"
      },
      "source": [
        "# Konlpy 설치\n",
        "!pip install konlpy\n"
      ],
      "execution_count": 1,
      "outputs": [
        {
          "output_type": "stream",
          "name": "stdout",
          "text": [
            "Requirement already satisfied: konlpy in /usr/local/lib/python3.7/dist-packages (0.5.2)\n",
            "Requirement already satisfied: JPype1>=0.7.0 in /usr/local/lib/python3.7/dist-packages (from konlpy) (1.3.0)\n",
            "Requirement already satisfied: numpy>=1.6 in /usr/local/lib/python3.7/dist-packages (from konlpy) (1.19.5)\n",
            "Requirement already satisfied: colorama in /usr/local/lib/python3.7/dist-packages (from konlpy) (0.4.4)\n",
            "Requirement already satisfied: tweepy>=3.7.0 in /usr/local/lib/python3.7/dist-packages (from konlpy) (3.10.0)\n",
            "Requirement already satisfied: lxml>=4.1.0 in /usr/local/lib/python3.7/dist-packages (from konlpy) (4.2.6)\n",
            "Requirement already satisfied: beautifulsoup4==4.6.0 in /usr/local/lib/python3.7/dist-packages (from konlpy) (4.6.0)\n",
            "Requirement already satisfied: typing-extensions in /usr/local/lib/python3.7/dist-packages (from JPype1>=0.7.0->konlpy) (3.10.0.2)\n",
            "Requirement already satisfied: six>=1.10.0 in /usr/local/lib/python3.7/dist-packages (from tweepy>=3.7.0->konlpy) (1.15.0)\n",
            "Requirement already satisfied: requests[socks]>=2.11.1 in /usr/local/lib/python3.7/dist-packages (from tweepy>=3.7.0->konlpy) (2.23.0)\n",
            "Requirement already satisfied: requests-oauthlib>=0.7.0 in /usr/local/lib/python3.7/dist-packages (from tweepy>=3.7.0->konlpy) (1.3.0)\n",
            "Requirement already satisfied: oauthlib>=3.0.0 in /usr/local/lib/python3.7/dist-packages (from requests-oauthlib>=0.7.0->tweepy>=3.7.0->konlpy) (3.1.1)\n",
            "Requirement already satisfied: idna<3,>=2.5 in /usr/local/lib/python3.7/dist-packages (from requests[socks]>=2.11.1->tweepy>=3.7.0->konlpy) (2.10)\n",
            "Requirement already satisfied: urllib3!=1.25.0,!=1.25.1,<1.26,>=1.21.1 in /usr/local/lib/python3.7/dist-packages (from requests[socks]>=2.11.1->tweepy>=3.7.0->konlpy) (1.24.3)\n",
            "Requirement already satisfied: chardet<4,>=3.0.2 in /usr/local/lib/python3.7/dist-packages (from requests[socks]>=2.11.1->tweepy>=3.7.0->konlpy) (3.0.4)\n",
            "Requirement already satisfied: certifi>=2017.4.17 in /usr/local/lib/python3.7/dist-packages (from requests[socks]>=2.11.1->tweepy>=3.7.0->konlpy) (2021.10.8)\n",
            "Requirement already satisfied: PySocks!=1.5.7,>=1.5.6 in /usr/local/lib/python3.7/dist-packages (from requests[socks]>=2.11.1->tweepy>=3.7.0->konlpy) (1.7.1)\n"
          ]
        }
      ]
    },
    {
      "cell_type": "code",
      "metadata": {
        "id": "RXjJFITN5Ga8"
      },
      "source": [
        "import pandas as pd\n",
        "from collections import defaultdict\n",
        "from konlpy.tag import Hannanum, Kkma, Komoran, Okt\n",
        "\n",
        "url = 'https://raw.githubusercontent.com/JunHCha/K-POP-Lyrics-1964-2020/main/data/melon_lyric_preprocess.csv'\n",
        "df = pd.read_csv(url)\n"
      ],
      "execution_count": 20,
      "outputs": []
    },
    {
      "cell_type": "code",
      "metadata": {
        "id": "RZ1RzlZt5VfQ"
      },
      "source": [
        "okt = Okt()\n",
        "\n",
        "co_occ_df = pd.DataFrame(columns=['year', 'genre', 'word1', 'word2', 'count'])\n",
        "\n",
        "years = df['year'].unique().tolist()\n",
        "for year in range(2010, 2021):\n",
        "    year_df = df.loc[df['year'] == year]\n",
        "    year_co_occ_df = pd.DataFrame(columns=['year', 'genre', 'word1', 'word2', 'count'])\n",
        "\n",
        "    for index, row in year_df.iterrows():\n",
        "        co_occurenced_pair = defaultdict(int)\n",
        "        genre = row['genre']\n",
        "        lyric = row['lyric']\n",
        "        words = [word[0] for word in okt.pos(lyric) if word[1] == 'Noun' or word[1] == 'Adjective']\n",
        "\n",
        "        for i in range(len(words)):\n",
        "            for j in range(i+1, len(words)):\n",
        "                if words[i] == words[j]:\n",
        "                    continue\n",
        "                tmp = tuple(sorted([words[i], words[j]]))\n",
        "                co_occurenced_pair[tmp] += 1\n",
        "\n",
        "        current = pd.DataFrame(\n",
        "            {\n",
        "                \"year\": year,\n",
        "                'genre': genre,\n",
        "                'word1': [pair[0] for pair in co_occurenced_pair],\n",
        "                'word2': [pair[1] for pair in co_occurenced_pair],\n",
        "                'count': [co_occurenced_pair[pair] for pair in co_occurenced_pair],\n",
        "            }\n",
        "        ) \n",
        "\n",
        "        year_co_occ_df = pd.concat([year_co_occ_df, current])\n",
        "\n",
        "    year_co_occ_df['count'] = year_co_occ_df.groupby(['year', 'genre', 'word1', 'word2'])['count'].transform('sum')\n",
        "    year_co_occ_df = year_co_occ_df.drop_duplicates(subset=['year', 'genre', 'word1', 'word2'])\n",
        "    year_co_occ_df = year_co_occ_df.loc[year_co_occ_df['count'] >= 10]\n",
        "\n",
        "    co_occ_df = pd.concat([co_occ_df, year_co_occ_df])"
      ],
      "execution_count": null,
      "outputs": []
    },
    {
      "cell_type": "code",
      "metadata": {
        "id": "ftX_WizY6BOT"
      },
      "source": [
        "co_occ_df.to_csv('lyric_co_occurenced_2010-2020.csv')\n",
        "from google.colab import files\n",
        "files.download('lyric_co_occurenced_2010-2020.csv')"
      ],
      "execution_count": null,
      "outputs": []
    },
    {
      "cell_type": "code",
      "metadata": {
        "id": "Vpe8m7ZsYOxJ"
      },
      "source": [
        ""
      ],
      "execution_count": null,
      "outputs": []
    }
  ]
}