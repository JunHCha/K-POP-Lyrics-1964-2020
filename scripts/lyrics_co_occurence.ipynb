{
  "cells": [
    {
      "cell_type": "code",
      "execution_count": null,
      "metadata": {
        "colab": {
          "base_uri": "https://localhost:8080/"
        },
        "id": "pI7PoRte4sIB",
        "outputId": "869e9ba6-b168-4667-ffda-f5540750ea78"
      },
      "outputs": [],
      "source": [
        "# Konlpy 설치\n",
        "!pip install konlpy\n"
      ]
    },
    {
      "cell_type": "code",
      "execution_count": null,
      "metadata": {
        "id": "RXjJFITN5Ga8"
      },
      "outputs": [],
      "source": [
        "import pandas as pd\n",
        "from collections import defaultdict\n",
        "from konlpy.tag import Hannanum, Kkma, Komoran, Okt\n",
        "\n",
        "url = 'https://raw.githubusercontent.com/JunHCha/K-POP-Lyrics-1964-2020/main/data/melon_lyric_preprocess.csv'\n",
        "df = pd.read_csv(url)\n"
      ]
    },
    {
      "cell_type": "code",
      "execution_count": null,
      "metadata": {
        "id": "RZ1RzlZt5VfQ"
      },
      "outputs": [],
      "source": [
        "okt = Okt()\n",
        "\n",
        "co_occ_df = pd.DataFrame(columns=['year', 'genre', 'word1', 'word2', 'count'])\n",
        "\n",
        "years = df['year'].unique().tolist()\n",
        "for year in range(2010, 2021):\n",
        "    year_df = df.loc[df['year'] == year]\n",
        "    year_co_occ_df = pd.DataFrame(columns=['year', 'genre', 'word1', 'word2', 'count'])\n",
        "\n",
        "    for index, row in year_df.iterrows():\n",
        "        co_occurenced_pair = defaultdict(int)\n",
        "        genre = row['genre']\n",
        "        lyric = row['lyric']\n",
        "        words = [word[0] for word in okt.pos(lyric) if word[1] == 'Noun' or word[1] == 'Adjective']\n",
        "\n",
        "        for i in range(len(words)):\n",
        "            for j in range(i+1, len(words)):\n",
        "                if words[i] == words[j]:\n",
        "                    continue\n",
        "                tmp = tuple(sorted([words[i], words[j]]))\n",
        "                co_occurenced_pair[tmp] += 1\n",
        "\n",
        "        current = pd.DataFrame(\n",
        "            {\n",
        "                \"year\": year,\n",
        "                'genre': genre,\n",
        "                'word1': [pair[0] for pair in co_occurenced_pair],\n",
        "                'word2': [pair[1] for pair in co_occurenced_pair],\n",
        "                'count': [co_occurenced_pair[pair] for pair in co_occurenced_pair],\n",
        "            }\n",
        "        ) \n",
        "\n",
        "        year_co_occ_df = pd.concat([year_co_occ_df, current])\n",
        "\n",
        "    year_co_occ_df['count'] = year_co_occ_df.groupby(['year', 'genre', 'word1', 'word2'])['count'].transform('sum')\n",
        "    year_co_occ_df = year_co_occ_df.drop_duplicates(subset=['year', 'genre', 'word1', 'word2'])\n",
        "    year_co_occ_df = year_co_occ_df.loc[year_co_occ_df['count'] >= 10]\n",
        "\n",
        "    co_occ_df = pd.concat([co_occ_df, year_co_occ_df])"
      ]
    },
    {
      "cell_type": "code",
      "execution_count": null,
      "metadata": {
        "id": "ftX_WizY6BOT"
      },
      "outputs": [],
      "source": [
        "co_occ_df.to_csv('lyric_co_occurenced_2010-2020.csv')\n",
        "from google.colab import files\n",
        "files.download('lyric_co_occurenced_2010-2020.csv')"
      ]
    },
    {
      "cell_type": "code",
      "execution_count": null,
      "metadata": {
        "id": "Vpe8m7ZsYOxJ"
      },
      "outputs": [],
      "source": []
    }
  ],
  "metadata": {
    "colab": {
      "collapsed_sections": [],
      "name": "lyrics_co_occurence.ipynb",
      "provenance": []
    },
    "kernelspec": {
      "display_name": "Python 3",
      "name": "python3"
    },
    "language_info": {
      "name": "python"
    }
  },
  "nbformat": 4,
  "nbformat_minor": 0
}
