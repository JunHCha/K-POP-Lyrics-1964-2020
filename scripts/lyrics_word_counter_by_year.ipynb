{
 "cells": [
  {
   "cell_type": "code",
   "execution_count": null,
   "metadata": {},
   "outputs": [],
   "source": [
    "import pandas as pd\n",
    "\n",
    "\n",
    "url = \"https://raw.githubusercontent.com/JunHCha/K-POP-Lyrics-1964-2020/main/data/lyrics_original/lyric_word_parsed_by_line.csv\"\n",
    "words_df = pd.read_csv(url, encoding=\"utf-8\")\n"
   ]
  },
  {
   "cell_type": "code",
   "execution_count": null,
   "metadata": {},
   "outputs": [],
   "source": [
    "song_count_df = (\n",
    "    words_df.groupby([\"year\"])\n",
    "    .nunique(dropna=False)[[\"song_id\"]]\n",
    "    .rename(columns={\"song_id\": \"song_count_by_year\"})\n",
    ")\n",
    "song_count_df\n"
   ]
  },
  {
   "cell_type": "code",
   "execution_count": null,
   "metadata": {},
   "outputs": [],
   "source": [
    "words_with_song_count_df = pd.merge(words_df, song_count_df, on=\"year\", how=\"inner\")\n",
    "\n",
    "words_by_year_df = (\n",
    "    words_with_song_count_df.groupby([\"word\", \"tag_orig\", \"year\"])\n",
    "    .agg(\n",
    "        count=(\"word\", \"count\"),\n",
    "        song_count_by_year=(\"song_count_by_year\", \"last\"),\n",
    "    )\n",
    "    .reset_index()\n",
    ")\n",
    "\n",
    "words_by_year_df[\"ratio\"] = (\n",
    "    words_by_year_df[\"count\"] / words_by_year_df[\"song_count_by_year\"]\n",
    ")\n",
    "\n",
    "period = 2020 - 1964 + 1\n",
    "\n",
    "\n",
    "def calc_mean_ratio(x):\n",
    "    return x.sum() / period\n",
    "\n",
    "\n",
    "words_by_year_df[\"mean_ratio\"] = words_by_year_df.groupby([\"word\", \"tag_orig\"])[\n",
    "    \"ratio\"\n",
    "].transform(calc_mean_ratio)\n",
    "words_by_year_df = words_by_year_df.sort_values(\"mean_ratio\", ascending=False)\n",
    "words_by_year_df\n"
   ]
  },
  {
   "cell_type": "code",
   "execution_count": null,
   "metadata": {},
   "outputs": [],
   "source": [
    "top_100_words_df = (\n",
    "    words_by_year_df.groupby([\"word\", \"tag_orig\"])\n",
    "    .agg(mean_ratio=(\"mean_ratio\", \"last\"))\n",
    "    .reset_index()\n",
    "    .sort_values(\"mean_ratio\", ascending=False)\n",
    ")\n",
    "top_100_words_df = (\n",
    "    top_100_words_df.loc[top_100_words_df[\"tag_orig\"] == \"NNG\"]\n",
    "    .nlargest(columns=\"mean_ratio\", n=100)\n",
    "    .reset_index()[[\"word\", \"tag_orig\", \"mean_ratio\"]]\n",
    ")\n",
    "top_100_words_df[\"rank\"] = top_100_words_df[\"mean_ratio\"].rank(ascending=False)\n",
    "top_100_words_df\n"
   ]
  },
  {
   "cell_type": "code",
   "execution_count": null,
   "metadata": {},
   "outputs": [],
   "source": [
    "words_by_year_top_100_df = pd.merge(\n",
    "    top_100_words_df, words_by_year_df, on=(\"word\", \"tag_orig\"), how=\"inner\"\n",
    ")[[\"word\", \"rank\", \"year\", \"song_count_by_year\", \"ratio\", \"mean_ratio_x\"]].sort_values(\n",
    "    [\"year\", \"rank\"], ascending=True\n",
    ")[\n",
    "    [\"year\", \"word\", \"ratio\"]\n",
    "]\n",
    "words_by_year_top_100_df = words_by_year_top_100_df.pivot_table(\n",
    "    words_by_year_top_100_df, index=\"year\", columns=words_by_year_top_100_df[\"word\"]\n",
    ").fillna(0)\n"
   ]
  },
  {
   "cell_type": "code",
   "execution_count": null,
   "metadata": {},
   "outputs": [],
   "source": [
    "words_by_year_top_100_df.to_csv(\n",
    "    \"../data/lyrics_count/lyric_word_counted_top_100_NORM.csv\"\n",
    ")\n"
   ]
  },
  {
   "cell_type": "code",
   "execution_count": null,
   "metadata": {},
   "outputs": [],
   "source": []
  }
 ],
 "metadata": {
  "interpreter": {
   "hash": "46cf439a9233ef0953938fb5b9abd3c060d1b96c685f3462fe8bfb29bc0b25b7"
  },
  "kernelspec": {
   "display_name": "Python 3.10.0 64-bit ('conda-env')",
   "language": "python",
   "name": "python3"
  },
  "language_info": {
   "codemirror_mode": {
    "name": "ipython",
    "version": 3
   },
   "file_extension": ".py",
   "mimetype": "text/x-python",
   "name": "python",
   "nbconvert_exporter": "python",
   "pygments_lexer": "ipython3",
   "version": "3.10.0"
  },
  "orig_nbformat": 4
 },
 "nbformat": 4,
 "nbformat_minor": 2
}
