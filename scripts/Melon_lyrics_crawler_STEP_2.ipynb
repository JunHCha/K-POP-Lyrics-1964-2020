{
  "cells": [
    {
      "cell_type": "code",
      "execution_count": null,
      "metadata": {
        "colab": {
          "base_uri": "https://localhost:8080/"
        },
        "id": "bekuHfaApsCV",
        "outputId": "9b2ac2f6-3a28-428f-d84d-f1a84836c580"
      },
      "outputs": [],
      "source": [
        "!apt-get update\n",
        "!pip install selenium\n",
        "!apt install chromium-chromedriver\n",
        "!cp /usr/lib/chromium-browser/chromedriver /usr/bin"
      ]
    },
    {
      "cell_type": "code",
      "execution_count": null,
      "metadata": {
        "id": "ReEK6doGoiNt"
      },
      "outputs": [],
      "source": [
        "import numpy as np\n",
        "import pandas as pd\n",
        "import re\n",
        "import time\n",
        "from selenium import webdriver\n",
        "from selenium.webdriver.common.by import By\n",
        "from selenium.common.exceptions import NoSuchElementException\n",
        "\n",
        "options = webdriver.ChromeOptions()\n",
        "options.add_argument('--headless')        # Head-less 설정\n",
        "options.add_argument('--no-sandbox')\n",
        "options.add_argument('--disable-dev-shm-usage')\n",
        "wd = webdriver.Chrome('chromedriver', options=options)\n",
        "songList = pd.read_csv(\n",
        "    \"https://raw.githubusercontent.com/JunHCha/K-POP-Lyrics-1964-2020/main/data/lyrics_original/kpop_lyrics_crawling_step1.csv\", index_col=False\n",
        ")"
      ]
    },
    {
      "cell_type": "markdown",
      "metadata": {},
      "source": [
        "### STEP 2: Song_id에 해당하는 노래의 가사 추출 후, STEP 1의 데이터와 병합"
      ]
    },
    {
      "cell_type": "code",
      "execution_count": null,
      "metadata": {
        "id": "V1a1eJFiqwHz"
      },
      "outputs": [],
      "source": [
        "song_details = pd.DataFrame(columns=['lyric', 'genre'])\n",
        "detail_base_url = \"http://www.melon.com/song/detail.htm?songId=\"\n",
        "lyric_tag_regex = re.compile(\"<.*?>\")\n",
        "song_ids = songList['song_id'].astype(str)"
      ]
    },
    {
      "cell_type": "code",
      "execution_count": null,
      "metadata": {
        "colab": {
          "base_uri": "https://localhost:8080/"
        },
        "id": "QoIJvWw-rU7X",
        "outputId": "32c64566-e2d5-4d5d-b277-6ccf3444abe1"
      },
      "outputs": [],
      "source": [
        "for song_id in song_ids:\n",
        "\n",
        "    wd.get(detail_base_url + song_id)\n",
        "\n",
        "    try:\n",
        "        lyric = wd.find_element(By.CSS_SELECTOR, \"div.lyric\").text\n",
        "    except NoSuchElementException:\n",
        "        lyric = \"\"\n",
        "    print(\"-----------------------------------\")\n",
        "    print(song_id)\n",
        "    print(lyric)\n",
        "    try:\n",
        "        genre = (\n",
        "            wd.find_element(By.CSS_SELECTOR, \"div.meta\")\n",
        "            .find_elements(By.CSS_SELECTOR, \"dd\")[2]\n",
        "            .text\n",
        "        )\n",
        "    except NoSuchElementException:\n",
        "        pass\n",
        "\n",
        "    current = pd.DataFrame(\n",
        "        {\n",
        "            \"song_id\": [song_id],\n",
        "            \"lyric\": [lyric],\n",
        "            \"genre\": [genre],\n",
        "        }\n",
        "    )\n",
        "    song_details = pd.concat((song_details, current))\n",
        "    time.sleep(np.random.randint(1, 15))"
      ]
    },
    {
      "cell_type": "code",
      "execution_count": null,
      "metadata": {
        "id": "0WgFqMKJAjbg"
      },
      "outputs": [],
      "source": [
        "song_details[\"song_id\"] = pd.to_numeric(song_details[\"song_id\"])\n",
        "song_list = pd.merge(\n",
        "    songList, song_details, left_on=\"song_id\", right_on=\"song_id\", how=\"inner\"\n",
        ")\n",
        "song_list.to_csv(\n",
        "    \"kpop_lyrics_crawling_step2.csv\",\n",
        "    encoding=\"utf-8\",\n",
        "    index=False,\n",
        ")"
      ]
    },
    {
      "cell_type": "code",
      "execution_count": null,
      "metadata": {
        "colab": {
          "base_uri": "https://localhost:8080/",
          "height": 17
        },
        "id": "XNRs8ML8v2Aa",
        "outputId": "89c22afb-3e81-4952-fa9f-d133ec1c1158"
      },
      "outputs": [],
      "source": [
        "from google.colab import files\n",
        "files.download(\"kpop_lyrics_crawling_step2.csv\")"
      ]
    }
  ],
  "metadata": {
    "colab": {
      "collapsed_sections": [],
      "name": "1990년 이전.ipynb",
      "provenance": []
    },
    "kernelspec": {
      "display_name": "Python 3",
      "name": "python3"
    },
    "language_info": {
      "name": "python"
    }
  },
  "nbformat": 4,
  "nbformat_minor": 0
}
