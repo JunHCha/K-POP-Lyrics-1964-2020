{
  "cells": [
    {
      "cell_type": "code",
      "execution_count": null,
      "metadata": {
        "colab": {
          "base_uri": "https://localhost:8080/"
        },
        "id": "BjcJZg-FR5YM",
        "outputId": "02d2ed3f-f2bc-4f0f-ba7a-ca846cc8bf7f"
      },
      "outputs": [],
      "source": [
        "!pip install konlpy"
      ]
    },
    {
      "cell_type": "code",
      "execution_count": null,
      "metadata": {
        "id": "ojlNKstWwL4Y"
      },
      "outputs": [],
      "source": [
        "import pandas as pd\n",
        "from collections import defaultdict\n",
        "from konlpy.tag import Hannanum, Kkma, Komoran, Okt\n",
        "import csv\n",
        "\n",
        "url = 'https://raw.githubusercontent.com/JunHCha/K-POP-Lyrics-1964-2020/main/data/melon_lyric_preprocess.csv'\n",
        "df = pd.read_csv(url)\n"
      ]
    },
    {
      "cell_type": "code",
      "execution_count": null,
      "metadata": {
        "colab": {
          "base_uri": "https://localhost:8080/"
        },
        "id": "dwY95IYcAgN_",
        "outputId": "b2a0cbf9-a08c-497d-c38d-8c08c7c016d8"
      },
      "outputs": [],
      "source": [
        "okt = Okt()\n",
        "\n",
        "word_cnt_df = pd.DataFrame(columns=['genre', 'year', 'word', 'freq'])\n",
        "\n",
        "genres = df['genre'].unique().tolist()\n",
        "print(f'total {len(genres)} genres')\n",
        "\n",
        "for genre in genres[31:]:\n",
        "    genre_df = df.loc[df['genre'] == genre]\n",
        "    years = genre_df['year'].unique().tolist()\n",
        "\n",
        "    for year in years:\n",
        "        genre_year_df = genre_df.loc[genre_df['year'] == year]\n",
        "        genre_freq_df = pd.DataFrame(columns=['genre', 'year', 'word', 'freq'])\n",
        "\n",
        "        for index, row in genre_year_df.iterrows():\n",
        "            freq = defaultdict(int)\n",
        "            lyric = row['lyric']\n",
        "            words = [word[0] for word in okt.pos(lyric) if word[1] == 'Noun' or word[1] == 'Adjective']\n",
        "\n",
        "            for token in words:\n",
        "                token = token.strip()\n",
        "                freq[token] += 1\n",
        "\n",
        "            current = pd.DataFrame(\n",
        "                {\n",
        "                    \"genre\": genre,\n",
        "                    \"year\" : year,\n",
        "                    \"word\" : [word for word in freq],\n",
        "                    \"freq\" : [freq[word] for word in freq],\n",
        "                }\n",
        "            )\n",
        "\n",
        "            genre_freq_df = pd.concat([genre_freq_df, current])\n",
        "        \n",
        "        genre_freq_df['freq'] = genre_freq_df.groupby(['genre', 'year',  'word'])['freq'].transform('sum')\n",
        "        genre_freq_df = genre_freq_df.drop_duplicates(subset=['genre', 'year', 'word'])\n",
        "        genre_freq_df = genre_freq_df.loc[genre_freq_df['freq'] >= 10]\n",
        "    \n",
        "        word_cnt_df = pd.concat([word_cnt_df, genre_freq_df])\n"
      ]
    },
    {
      "cell_type": "code",
      "execution_count": null,
      "metadata": {
        "colab": {
          "base_uri": "https://localhost:8080/",
          "height": 34
        },
        "id": "eMDUnOF8IlFj",
        "outputId": "edbd8da3-11cc-4276-f4fa-6e681cca7a81"
      },
      "outputs": [],
      "source": [
        "word_cnt_df.to_csv('lyric_freq_genre_31-42.csv')\n",
        "from google.colab import files\n",
        "files.download('lyric_freq_genre_31-42.csv')"
      ]
    },
    {
      "cell_type": "code",
      "execution_count": null,
      "metadata": {
        "id": "IhNucEHAP9oZ"
      },
      "outputs": [],
      "source": []
    }
  ],
  "metadata": {
    "colab": {
      "collapsed_sections": [],
      "name": "lyrics_word_counter",
      "provenance": []
    },
    "kernelspec": {
      "display_name": "Python 3",
      "name": "python3"
    },
    "language_info": {
      "name": "python"
    }
  },
  "nbformat": 4,
  "nbformat_minor": 0
}
